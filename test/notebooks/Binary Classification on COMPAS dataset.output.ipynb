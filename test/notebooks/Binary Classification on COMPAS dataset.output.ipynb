{
 "cells": [
  {
   "cell_type": "markdown",
   "metadata": {
    "papermill": {
     "duration": 0.016002,
     "end_time": "2020-05-05T00:32:32.903863",
     "exception": false,
     "start_time": "2020-05-05T00:32:32.887861",
     "status": "completed"
    },
    "tags": []
   },
   "source": [
    "# Getting and preparing the data\n",
    "\n"
   ]
  },
  {
   "cell_type": "markdown",
   "metadata": {
    "papermill": {
     "duration": 0.015003,
     "end_time": "2020-05-05T00:32:32.935866",
     "exception": false,
     "start_time": "2020-05-05T00:32:32.920863",
     "status": "completed"
    },
    "tags": []
   },
   "source": [
    "To demonstrate the post processing algorithm we use the \"COMPAS\" dataset from [ProPublica](https://raw.githubusercontent.com/propublica/compas-analysis/master/compas-scores-two-years.csv). The labels represent the two-year recidivism ID, i.e. whether a person got rearrested within two years (label 1) or not (label 0). The features include sex, age, as well as information on prior incidents.\n",
    "\n",
    "To start, let's download the dataset using `tempeh`"
   ]
  },
  {
   "cell_type": "code",
   "execution_count": 1,
   "metadata": {
    "papermill": {
     "duration": 10.567998,
     "end_time": "2020-05-05T00:32:43.526864",
     "exception": false,
     "start_time": "2020-05-05T00:32:32.958866",
     "status": "completed"
    },
    "tags": []
   },
   "outputs": [
    {
     "data": {
      "text/plain": [
       "(age                        25.000000\n",
       " juv_fel_count               0.000000\n",
       " juv_misd_count             -2.340451\n",
       " juv_other_count             1.000000\n",
       " priors_count              -15.010999\n",
       " age_cat_25 - 45             1.000000\n",
       " age_cat_Greater than 45     0.000000\n",
       " age_cat_Less than 25        0.000000\n",
       " c_charge_degree_F           0.000000\n",
       " c_charge_degree_M           1.000000\n",
       " Name: 0, dtype: float64, 1.0)"
      ]
     },
     "execution_count": 1,
     "metadata": {},
     "output_type": "execute_result"
    }
   ],
   "source": [
    "import pandas as pd\n",
    "import numpy as np\n",
    "from tempeh.configurations import datasets\n",
    "\n",
    "compas_dataset = datasets['compas']()\n",
    "X_train, X_test = compas_dataset.get_X(format=pd.DataFrame)\n",
    "y_train, y_test = compas_dataset.get_y(format=pd.Series)\n",
    "sensitive_features_train, sensitive_features_test = compas_dataset.get_sensitive_features('race', format=pd.Series)\n",
    "X_train.loc[0], y_train[0]"
   ]
  },
  {
   "cell_type": "markdown",
   "metadata": {
    "papermill": {
     "duration": 0.032004,
     "end_time": "2020-05-05T00:32:43.589866",
     "exception": false,
     "start_time": "2020-05-05T00:32:43.557862",
     "status": "completed"
    },
    "tags": []
   },
   "source": [
    "# Create a fairness-unaware model"
   ]
  },
  {
   "cell_type": "markdown",
   "metadata": {
    "papermill": {
     "duration": 0.044002,
     "end_time": "2020-05-05T00:32:43.677865",
     "exception": false,
     "start_time": "2020-05-05T00:32:43.633863",
     "status": "completed"
    },
    "tags": []
   },
   "source": [
    "First we set up a helper function that will help in analyzing the dataset as well as predictions from our models. Feel free to skip to the next cell for the actual logic."
   ]
  },
  {
   "cell_type": "code",
   "execution_count": 2,
   "metadata": {
    "papermill": {
     "duration": 0.102005,
     "end_time": "2020-05-05T00:32:43.813867",
     "exception": false,
     "start_time": "2020-05-05T00:32:43.711862",
     "status": "completed"
    },
    "tags": []
   },
   "outputs": [],
   "source": [
    "%matplotlib inline\n",
    "\n",
    "import matplotlib.pyplot as plt\n",
    "import matplotlib.cm as cm\n",
    "\n",
    "# show_proportions is only a helper function for plotting\n",
    "def show_proportions(X, sensitive_features, y_pred, y=None, description=None, plot_row_index=1):\n",
    "    print(\"\\n\" + description)\n",
    "    plt.figure(plot_row_index)\n",
    "    plt.title(description)\n",
    "    plt.ylabel(\"P[recidivism predicted | conditions]\")\n",
    "    \n",
    "    indices = {}\n",
    "    positive_indices = {}\n",
    "    negative_indices = {}\n",
    "    recidivism_count = {}\n",
    "    recidivism_pct = {}\n",
    "    groups = np.unique(sensitive_features.values)\n",
    "    n_groups = len(groups)\n",
    "    max_group_length = max([len(group) for group in groups])\n",
    "    color = cm.rainbow(np.linspace(0,1,n_groups))\n",
    "    x_tick_labels_basic = []\n",
    "    x_tick_labels_by_label = []\n",
    "    for index, group in enumerate(groups):\n",
    "        indices[group] = sensitive_features.index[sensitive_features == group]\n",
    "        recidivism_count[group] = sum(y_pred[indices[group]])\n",
    "        recidivism_pct[group] = recidivism_count[group]/len(indices[group])\n",
    "        print(\"P[recidivism predicted | {}]                {}= {}\".format(group, \" \"*(max_group_length-len(group)), recidivism_pct[group]))\n",
    "    \n",
    "        plt.bar(index + 1, recidivism_pct[group], color=color[index])\n",
    "        x_tick_labels_basic.append(group)\n",
    "    \n",
    "        if y is not None:\n",
    "            positive_indices[group] = sensitive_features.index[(sensitive_features == group) & (y == 1)]\n",
    "            negative_indices[group] = sensitive_features.index[(sensitive_features == group) & (y == 0)]\n",
    "            prob_1 = sum(y_pred[positive_indices[group]])/len(positive_indices[group])\n",
    "            prob_0 = sum(y_pred[negative_indices[group]])/len(negative_indices[group])\n",
    "            print(\"P[recidivism predicted | {}, recidivism]    {}= {}\".format(group, \" \"*(max_group_length-len(group)) , prob_1))\n",
    "            print(\"P[recidivism predicted | {}, no recidivism] {}= {}\".format(group, \" \"*(max_group_length-len(group)), prob_0))\n",
    "\n",
    "            plt.bar(n_groups + 1 + 2 * index, prob_1, color=color[index])\n",
    "            plt.bar(n_groups + 2 + 2 * index, prob_0, color=color[index])\n",
    "            x_tick_labels_by_label.extend([\"{} recidivism\".format(group), \"{} no recidivism\".format(group)])\n",
    "    \n",
    "    x_tick_labels = x_tick_labels_basic + x_tick_labels_by_label\n",
    "    plt.xticks(range(1, len(x_tick_labels)+1), x_tick_labels, rotation=45, horizontalalignment=\"right\")"
   ]
  },
  {
   "cell_type": "markdown",
   "metadata": {
    "papermill": {
     "duration": 0.029995,
     "end_time": "2020-05-05T00:32:43.875865",
     "exception": false,
     "start_time": "2020-05-05T00:32:43.845870",
     "status": "completed"
    },
    "tags": []
   },
   "source": [
    "To get started we look at a very basic Logistic Regression model. We fit it to the training data and plot some characteristics of training and test data as well as the predictions of the model on those datasets.\n",
    "\n",
    "We notice a stark contrast in the predictions with African-Americans being a lot more likely to be predicted to reoffend, similar to the original training data. However, there's even a disparity between the subgroup of African-Americans and Caucasians with recidivism. When considering only the samples labeled with \"no recidivism\" African-Americans are much more likely to be predicted to reoffend than Caucasians. The test data shows a similar disparity."
   ]
  },
  {
   "cell_type": "code",
   "execution_count": 3,
   "metadata": {
    "papermill": {
     "duration": 0.630998,
     "end_time": "2020-05-05T00:32:44.534865",
     "exception": false,
     "start_time": "2020-05-05T00:32:43.903867",
     "status": "completed"
    },
    "tags": []
   },
   "outputs": [
    {
     "name": "stdout",
     "output_type": "stream",
     "text": [
      "\n",
      "original test data:"
     ]
    },
    {
     "name": "stdout",
     "output_type": "stream",
     "text": [
      "\n"
     ]
    },
    {
     "name": "stdout",
     "output_type": "stream",
     "text": [
      "P[recidivism predicted | African-American]                = 0.5457198443579766"
     ]
    },
    {
     "name": "stdout",
     "output_type": "stream",
     "text": [
      "\n"
     ]
    },
    {
     "name": "stdout",
     "output_type": "stream",
     "text": [
      "P[recidivism predicted | Caucasian]                       = 0.3795518207282913"
     ]
    },
    {
     "name": "stdout",
     "output_type": "stream",
     "text": [
      "\n"
     ]
    },
    {
     "name": "stdout",
     "output_type": "stream",
     "text": [
      "\n",
      "fairness-unaware prediction on test data:"
     ]
    },
    {
     "name": "stdout",
     "output_type": "stream",
     "text": [
      "\n"
     ]
    },
    {
     "name": "stdout",
     "output_type": "stream",
     "text": [
      "P[recidivism predicted | African-American]                = 0.5155642023346303"
     ]
    },
    {
     "name": "stdout",
     "output_type": "stream",
     "text": [
      "\n"
     ]
    },
    {
     "name": "stdout",
     "output_type": "stream",
     "text": [
      "P[recidivism predicted | African-American, recidivism]    = 0.661319073083779"
     ]
    },
    {
     "name": "stdout",
     "output_type": "stream",
     "text": [
      "\n"
     ]
    },
    {
     "name": "stdout",
     "output_type": "stream",
     "text": [
      "P[recidivism predicted | African-American, no recidivism] = 0.3404710920770878"
     ]
    },
    {
     "name": "stdout",
     "output_type": "stream",
     "text": [
      "\n"
     ]
    },
    {
     "name": "stdout",
     "output_type": "stream",
     "text": [
      "P[recidivism predicted | Caucasian]                       = 0.2857142857142857"
     ]
    },
    {
     "name": "stdout",
     "output_type": "stream",
     "text": [
      "\n"
     ]
    },
    {
     "name": "stdout",
     "output_type": "stream",
     "text": [
      "P[recidivism predicted | Caucasian, recidivism]           = 0.42435424354243545"
     ]
    },
    {
     "name": "stdout",
     "output_type": "stream",
     "text": [
      "\n"
     ]
    },
    {
     "name": "stdout",
     "output_type": "stream",
     "text": [
      "P[recidivism predicted | Caucasian, no recidivism]        = 0.20090293453724606"
     ]
    },
    {
     "name": "stdout",
     "output_type": "stream",
     "text": [
      "\n"
     ]
    },
    {
     "data": {
      "image/png": "[encoded data removed]",
      "text/plain": [
       "<Figure size 432x288 with 1 Axes>"
      ]
     },
     "metadata": {
      "needs_background": "light"
     },
     "output_type": "display_data"
    },
    {
     "data": {
      "image/png": "[encoded data removed]",
      "text/plain": [
       "<Figure size 432x288 with 1 Axes>"
      ]
     },
     "metadata": {
      "needs_background": "light"
     },
     "output_type": "display_data"
    }
   ],
   "source": [
    "from sklearn.linear_model import LogisticRegression\n",
    "\n",
    "estimator = LogisticRegression(solver='liblinear')\n",
    "estimator.fit(X_train, y_train)\n",
    "    \n",
    "# print and plot data from training and test set as well as predictions with fairness-unaware classifier on both sets \n",
    "# show only test data related plots by default - uncomment the next two lines to see training data plots as well\n",
    "# show_proportions(X_train, sensitive_features_train, y_train, description=\"original training data:\", plot_row_index=1)\n",
    "# show_proportions(X_train, sensitive_features_train, estimator.predict(X_train), y_train, description=\"fairness-unaware prediction on training data:\", plot_row_index=2)\n",
    "show_proportions(X_test, sensitive_features_test, y_test, description=\"original test data:\", plot_row_index=3)\n",
    "show_proportions(X_test, sensitive_features_test, estimator.predict(X_test), y_test, description=\"fairness-unaware prediction on test data:\", plot_row_index=4)\n",
    "plt.show()"
   ]
  },
  {
   "cell_type": "markdown",
   "metadata": {
    "papermill": {
     "duration": 0.032003,
     "end_time": "2020-05-05T00:32:44.606864",
     "exception": false,
     "start_time": "2020-05-05T00:32:44.574861",
     "status": "completed"
    },
    "tags": []
   },
   "source": [
    "# Postprocessing the model to get a fair model"
   ]
  },
  {
   "cell_type": "markdown",
   "metadata": {
    "papermill": {
     "duration": 0.045003,
     "end_time": "2020-05-05T00:32:44.696865",
     "exception": false,
     "start_time": "2020-05-05T00:32:44.651862",
     "status": "completed"
    },
    "tags": []
   },
   "source": [
    "The idea behind postprocessing is to alter the output of the fairness-unaware model to achieve fairness. The postprocessing algorithm requires three input arguments:\n",
    "- the matrix of samples X\n",
    "- the vector of predictions y from the fairness-unaware model \n",
    "- the vector of group attribute values A (in the code we refer to it as `sensitive_features`)\n",
    "\n",
    "The goal is to make the output fair with respect to constraints. The postprocessing algorithm uses one of\n",
    "- Demographic Parity (DP): $P\\ [\\ h(X)=\\hat{y}\\ |\\ A=a] = P\\ [\\ h(X)=\\hat{y}\\ ] \\qquad \\forall a, \\hat{y}$\n",
    "- Equalized Odds (EO): $P\\ [\\ h(X)=\\hat{y}\\ |\\ A=a, Y=y] = P\\ [\\ h(X)=\\hat{y}\\ |\\ Y=y\\ ] \\qquad \\forall a, \\hat{y}$\n",
    "\n",
    "where $h(X)$ is the prediction based on the input $X$, $\\hat{y}$ and $y$ are labels, and $a$ is a sensitive feature value. In this example, we'd expect the postprocessed model with DP to be balanced between races. In this particular scenario it makes more sense to aim at fairness through accuracy like EO. EO does not make the same guarantees. Instead, it ensures parity between the subgroups of each race with label 1 in the training set, and parity between the subgroups of each race with label 0 in the training set. Applied to this scenario, this means that the subgroups of each race who reoffended in the past are equally likely to be predicted to reoffend (and therefore also equally likely not to). Similarly, there is parity between subgroups of each race without recidivism, but we have no parity between the groups with different training labels. In mathematical terms at the example of African-American and Caucasian:\n",
    "\n",
    "$$\n",
    "P\\ [\\ \\text{recidivism predicted}\\ |\\ \\text{African-American, recidivism}\\ ] = P\\ [\\ \\text{recidivism predicted}\\ |\\ \\text{Caucasian, recidivism}\\ ], \\text{e.g. } 0.95\\\\\n",
    "P\\ [\\ \\text{recidivism predicted}\\ |\\ \\text{African-American, no recidivism}\\ ] = P\\ [\\ \\text{recidivism predicted}\\ |\\ \\text{Caucasian, no recidivism}\\ ], \\text{e.g. } 0.15\n",
    "$$\n",
    "\n",
    "but that also means that African-Americans (and Caucasians) of different subgroup based on training labels don't necessarily have parity:\n",
    "\n",
    "$$\n",
    "P[\\text{recidivism predicted} | \\text{African-American, recidivism}] = 0.95 \\neq 0.15 = P[\\text{recidivism predicted} | \\text{African-American, no recidivism}]\n",
    "$$\n",
    "\n",
    "Assessing which disparity metric is indeed fair varies by application scenario. In this case the evaluation focuses on Equalized Odds, because the recidivism prediction should be accurate for each race, and for each subgroup within. The plot for the training data shows the intended outcome, while the plot for the test data exhibits slight variation which is likely due to randomized predictions as well as a slightly different data distribution."
   ]
  },
  {
   "cell_type": "code",
   "execution_count": 4,
   "metadata": {
    "papermill": {
     "duration": 0.050002,
     "end_time": "2020-05-05T00:32:44.791867",
     "exception": false,
     "start_time": "2020-05-05T00:32:44.741865",
     "status": "completed"
    },
    "tags": []
   },
   "outputs": [],
   "source": [
    "# This wrapper around the estimator serves the purpose of mapping the predict\n",
    "# method to predict_proba so that we can use real values to get more accurate estimates.\n",
    "from sklearn import clone\n",
    "from sklearn.base import BaseEstimator, ClassifierMixin\n",
    "from sklearn.utils.validation import check_is_fitted\n",
    "from sklearn.exceptions import NotFittedError\n",
    "\n",
    "class LogisticRegressionAsRegression(BaseEstimator, ClassifierMixin):\n",
    "    def __init__(self, logistic_regression_estimator):\n",
    "        self.logistic_regression_estimator = logistic_regression_estimator\n",
    "    \n",
    "    def fit(self, X, y):\n",
    "        try:\n",
    "            check_is_fitted(self.logistic_regression_estimator)\n",
    "            self.logistic_regression_estimator_ = self.logistic_regression_estimator\n",
    "        except NotFittedError:\n",
    "            self.logistic_regression_estimator_ = clone(\n",
    "                self.logistic_regression_estimator).fit(X, y)\n",
    "        return self\n",
    "    \n",
    "    def predict(self, X):\n",
    "        # use predict_proba to get real values instead of 0/1, select only prob for 1\n",
    "        scores = self.logistic_regression_estimator_.predict_proba(X)[:,1]\n",
    "        return scores"
   ]
  },
  {
   "cell_type": "code",
   "execution_count": 5,
   "metadata": {
    "papermill": {
     "duration": 1.139009,
     "end_time": "2020-05-05T00:32:45.958871",
     "exception": false,
     "start_time": "2020-05-05T00:32:44.819862",
     "status": "completed"
    },
    "tags": []
   },
   "outputs": [
    {
     "name": "stdout",
     "output_type": "stream",
     "text": [
      "\n",
      "equalized odds with postprocessed model on test data:"
     ]
    },
    {
     "name": "stdout",
     "output_type": "stream",
     "text": [
      "\n"
     ]
    },
    {
     "name": "stdout",
     "output_type": "stream",
     "text": [
      "P[recidivism predicted | African-American]                = 0.46108949416342415"
     ]
    },
    {
     "name": "stdout",
     "output_type": "stream",
     "text": [
      "\n"
     ]
    },
    {
     "name": "stdout",
     "output_type": "stream",
     "text": [
      "P[recidivism predicted | African-American, recidivism]    = 0.5686274509803921"
     ]
    },
    {
     "name": "stdout",
     "output_type": "stream",
     "text": [
      "\n"
     ]
    },
    {
     "name": "stdout",
     "output_type": "stream",
     "text": [
      "P[recidivism predicted | African-American, no recidivism] = 0.33190578158458245"
     ]
    },
    {
     "name": "stdout",
     "output_type": "stream",
     "text": [
      "\n"
     ]
    },
    {
     "name": "stdout",
     "output_type": "stream",
     "text": [
      "P[recidivism predicted | Caucasian]                       = 0.4677871148459384"
     ]
    },
    {
     "name": "stdout",
     "output_type": "stream",
     "text": [
      "\n"
     ]
    },
    {
     "name": "stdout",
     "output_type": "stream",
     "text": [
      "P[recidivism predicted | Caucasian, recidivism]           = 0.6236162361623616"
     ]
    },
    {
     "name": "stdout",
     "output_type": "stream",
     "text": [
      "\n"
     ]
    },
    {
     "name": "stdout",
     "output_type": "stream",
     "text": [
      "P[recidivism predicted | Caucasian, no recidivism]        = 0.3724604966139955"
     ]
    },
    {
     "name": "stdout",
     "output_type": "stream",
     "text": [
      "\n"
     ]
    },
    {
     "data": {
      "image/png": "[encoded data removed]",
      "text/plain": [
       "<Figure size 432x288 with 1 Axes>"
      ]
     },
     "metadata": {
      "needs_background": "light"
     },
     "output_type": "display_data"
    }
   ],
   "source": [
    "from fairlearn.postprocessing import ThresholdOptimizer\n",
    "from copy import deepcopy\n",
    "\n",
    "estimator_wrapper = LogisticRegressionAsRegression(estimator).fit(X_train, y_train)\n",
    "postprocessed_predictor_EO = ThresholdOptimizer(\n",
    "    estimator=estimator_wrapper,\n",
    "    constraints=\"equalized_odds\",\n",
    "    prefit=True)\n",
    "\n",
    "postprocessed_predictor_EO.fit(X_train, y_train, sensitive_features=sensitive_features_train)\n",
    "\n",
    "fairness_aware_predictions_EO_train = postprocessed_predictor_EO.predict(X_train, sensitive_features=sensitive_features_train)\n",
    "fairness_aware_predictions_EO_test = postprocessed_predictor_EO.predict(X_test, sensitive_features=sensitive_features_test)\n",
    "\n",
    "# show only test data related plot by default - uncomment the next line to see training data plot as well\n",
    "# show_proportions(X_train, sensitive_features_train, fairness_aware_predictions_EO_train, y_train, description=\"equalized odds with postprocessed model on training data:\", plot_row_index=1)\n",
    "show_proportions(X_test, sensitive_features_test, fairness_aware_predictions_EO_test, y_test, description=\"equalized odds with postprocessed model on test data:\", plot_row_index=2)\n",
    "plt.show()\n"
   ]
  },
  {
   "cell_type": "markdown",
   "metadata": {
    "papermill": {
     "duration": 0.053,
     "end_time": "2020-05-05T00:32:46.062862",
     "exception": false,
     "start_time": "2020-05-05T00:32:46.009862",
     "status": "completed"
    },
    "tags": []
   },
   "source": [
    "# Post Processing in Detail\n",
    "\n",
    "While this worked as the numbers show, it's not entirely obvious how it found its solution. The following section will provide a deep dive on post processing for Equalized Odds (EO).\n",
    "\n",
    "The post processing method (based on work by [Hardt, Price, Srebro](https://arxiv.org/pdf/1610.02413.pdf)) takes a fairness-unaware model and disparity constraints (such as EO) in the constructor and features (X), labels (y), and a sensitive feature (sensitive_features) in the fit method. It subsequently uses the model to make predictions for all samples in X. Note that these predictions could be 0/1 (as in this example), or more categories, or even real valued scores.\n",
    "In this case, this looks as follows:"
   ]
  },
  {
   "cell_type": "code",
   "execution_count": 6,
   "metadata": {
    "papermill": {
     "duration": 0.06001,
     "end_time": "2020-05-05T00:32:46.182874",
     "exception": false,
     "start_time": "2020-05-05T00:32:46.122864",
     "status": "completed"
    },
    "tags": []
   },
   "outputs": [
    {
     "data": {
      "text/plain": [
       "array([0.08323404, 0.43451484, 0.54980294, ..., 0.56740062, 0.22122327,\n",
       "       0.37423461])"
      ]
     },
     "execution_count": 6,
     "metadata": {},
     "output_type": "execute_result"
    }
   ],
   "source": [
    "scores = estimator_wrapper.predict(X_train)\n",
    "scores"
   ]
  },
  {
   "cell_type": "markdown",
   "metadata": {
    "papermill": {
     "duration": 0.034001,
     "end_time": "2020-05-05T00:32:46.256862",
     "exception": false,
     "start_time": "2020-05-05T00:32:46.222861",
     "status": "completed"
    },
    "tags": []
   },
   "source": [
    "## Finding threshold rules\n",
    "\n",
    "The algorithm then tries to find all thresholding rules with which it could divide the data. Any score for which the thresholding rule evaluates to true is predicted to be 1. It does that for each group, so in this case for each race. Depending on the unconstrained predictor's scores you could have lots of thresholding rules, between each set of such values. For each rule we just evaluate the following two probabilities empirically:\n",
    "\n",
    "$$\n",
    "P[\\hat{Y} = 1 | Y = 0] \\text{ which is labeled x below to indicate that it'll be plotted on the x-axis}\\\\\n",
    "P[\\hat{Y} = 1 | Y = 1] \\text{ which is labeled y below to indicate that it'll be plotted on the y-axis}\n",
    "$$\n",
    "\n",
    "The former is the false negative rate (of that group), while the latter is the true positive rate (of that group). In this example, the threshold rules would be the ones shown below:"
   ]
  },
  {
   "cell_type": "code",
   "execution_count": 7,
   "metadata": {
    "papermill": {
     "duration": 0.116003,
     "end_time": "2020-05-05T00:32:46.404863",
     "exception": false,
     "start_time": "2020-05-05T00:32:46.288860",
     "status": "completed"
    },
    "tags": []
   },
   "outputs": [
    {
     "data": {
      "text/html": [
       "<div>\n",
       "<style scoped>\n",
       "    .dataframe tbody tr th:only-of-type {\n",
       "        vertical-align: middle;\n",
       "    }\n",
       "\n",
       "    .dataframe tbody tr th {\n",
       "        vertical-align: top;\n",
       "    }\n",
       "\n",
       "    .dataframe thead tr th {\n",
       "        text-align: left;\n",
       "    }\n",
       "\n",
       "    .dataframe thead tr:last-of-type th {\n",
       "        text-align: right;\n",
       "    }\n",
       "</style>\n",
       "<table border=\"1\" class=\"dataframe\">\n",
       "  <thead>\n",
       "    <tr>\n",
       "      <th></th>\n",
       "      <th colspan=\"8\" halign=\"left\">score</th>\n",
       "      <th colspan=\"8\" halign=\"left\">label</th>\n",
       "    </tr>\n",
       "    <tr>\n",
       "      <th></th>\n",
       "      <th>count</th>\n",
       "      <th>mean</th>\n",
       "      <th>std</th>\n",
       "      <th>min</th>\n",
       "      <th>25%</th>\n",
       "      <th>50%</th>\n",
       "      <th>75%</th>\n",
       "      <th>max</th>\n",
       "      <th>count</th>\n",
       "      <th>mean</th>\n",
       "      <th>std</th>\n",
       "      <th>min</th>\n",
       "      <th>25%</th>\n",
       "      <th>50%</th>\n",
       "      <th>75%</th>\n",
       "      <th>max</th>\n",
       "    </tr>\n",
       "    <tr>\n",
       "      <th>sensitive_feature</th>\n",
       "      <th></th>\n",
       "      <th></th>\n",
       "      <th></th>\n",
       "      <th></th>\n",
       "      <th></th>\n",
       "      <th></th>\n",
       "      <th></th>\n",
       "      <th></th>\n",
       "      <th></th>\n",
       "      <th></th>\n",
       "      <th></th>\n",
       "      <th></th>\n",
       "      <th></th>\n",
       "      <th></th>\n",
       "      <th></th>\n",
       "      <th></th>\n",
       "    </tr>\n",
       "  </thead>\n",
       "  <tbody>\n",
       "    <tr>\n",
       "      <th>African-American</th>\n",
       "      <td>2147.0</td>\n",
       "      <td>0.509660</td>\n",
       "      <td>0.173325</td>\n",
       "      <td>0.035361</td>\n",
       "      <td>0.379570</td>\n",
       "      <td>0.507907</td>\n",
       "      <td>0.608433</td>\n",
       "      <td>0.989919</td>\n",
       "      <td>2147.0</td>\n",
       "      <td>0.512343</td>\n",
       "      <td>0.499964</td>\n",
       "      <td>0.0</td>\n",
       "      <td>0.0</td>\n",
       "      <td>1.0</td>\n",
       "      <td>1.0</td>\n",
       "      <td>1.0</td>\n",
       "    </tr>\n",
       "    <tr>\n",
       "      <th>Caucasian</th>\n",
       "      <td>1389.0</td>\n",
       "      <td>0.400387</td>\n",
       "      <td>0.164785</td>\n",
       "      <td>0.004425</td>\n",
       "      <td>0.273927</td>\n",
       "      <td>0.379796</td>\n",
       "      <td>0.512370</td>\n",
       "      <td>0.995314</td>\n",
       "      <td>1389.0</td>\n",
       "      <td>0.396688</td>\n",
       "      <td>0.489386</td>\n",
       "      <td>0.0</td>\n",
       "      <td>0.0</td>\n",
       "      <td>0.0</td>\n",
       "      <td>1.0</td>\n",
       "      <td>1.0</td>\n",
       "    </tr>\n",
       "  </tbody>\n",
       "</table>\n",
       "</div>"
      ],
      "text/plain": [
       "                    score                                                    \\\n",
       "                    count      mean       std       min       25%       50%   \n",
       "sensitive_feature                                                             \n",
       "African-American   2147.0  0.509660  0.173325  0.035361  0.379570  0.507907   \n",
       "Caucasian          1389.0  0.400387  0.164785  0.004425  0.273927  0.379796   \n",
       "\n",
       "                                        label                                \\\n",
       "                        75%       max   count      mean       std  min  25%   \n",
       "sensitive_feature                                                             \n",
       "African-American   0.608433  0.989919  2147.0  0.512343  0.499964  0.0  0.0   \n",
       "Caucasian          0.512370  0.995314  1389.0  0.396688  0.489386  0.0  0.0   \n",
       "\n",
       "                                  \n",
       "                   50%  75%  max  \n",
       "sensitive_feature                 \n",
       "African-American   1.0  1.0  1.0  \n",
       "Caucasian          0.0  1.0  1.0  "
      ]
     },
     "execution_count": 7,
     "metadata": {},
     "output_type": "execute_result"
    }
   ],
   "source": [
    "from fairlearn.postprocessing._threshold_optimizer import _reformat_and_group_data\n",
    "data_grouped_by_sensitive_feature = _reformat_and_group_data(sensitive_features_train, y_train.astype(int), scores)\n",
    "data_grouped_by_sensitive_feature.describe()"
   ]
  },
  {
   "cell_type": "code",
   "execution_count": 8,
   "metadata": {
    "papermill": {
     "duration": 0.075999,
     "end_time": "2020-05-05T00:32:46.512865",
     "exception": false,
     "start_time": "2020-05-05T00:32:46.436866",
     "status": "completed"
    },
    "tags": []
   },
   "outputs": [
    {
     "name": "stdout",
     "output_type": "stream",
     "text": [
      "Thresholding rules:"
     ]
    },
    {
     "name": "stdout",
     "output_type": "stream",
     "text": [
      "\n"
     ]
    },
    {
     "data": {
      "text/plain": [
       "{'African-American':              x         y               operation\n",
       " 0     0.000000  0.000000                  [>inf]\n",
       " 1     0.000000  0.000909   [>0.9894717396124476]\n",
       " 2     0.000000  0.001818   [>0.9832299702004459]\n",
       " 3     0.000000  0.002727   [>0.9767016738232718]\n",
       " 4     0.000000  0.003636   [>0.9755579559076288]\n",
       " ...        ...       ...                     ...\n",
       " 1338  0.997135  0.998182  [>0.07794734418186806]\n",
       " 1339  0.998090  0.998182  [>0.06980843611947275]\n",
       " 1341  0.999045  0.999091  [>0.06410481171931402]\n",
       " 1342  0.999045  1.000000  [>0.04892218452142007]\n",
       " 1343  1.000000  1.000000                 [>-inf]\n",
       " \n",
       " [1344 rows x 3 columns],\n",
       " 'Caucasian':             x         y                operation\n",
       " 0    0.000000  0.000000                   [>inf]\n",
       " 1    0.000000  0.001815    [>0.9901698849627006]\n",
       " 2    0.000000  0.003630    [>0.9843556043746254]\n",
       " 3    0.000000  0.005445    [>0.9780210111275346]\n",
       " 4    0.000000  0.007260    [>0.9719729382259605]\n",
       " ..        ...       ...                      ...\n",
       " 885  0.995227  1.000000   [>0.06803329894686855]\n",
       " 886  0.996420  1.000000  [>0.060788037103729764]\n",
       " 887  0.997613  1.000000   [>0.04566358202846919]\n",
       " 888  0.998807  1.000000   [>0.02003713783124352]\n",
       " 889  1.000000  1.000000                  [>-inf]\n",
       " \n",
       " [890 rows x 3 columns]}"
      ]
     },
     "execution_count": 8,
     "metadata": {},
     "output_type": "execute_result"
    }
   ],
   "source": [
    "from fairlearn.postprocessing._roc_curve_utilities import _calculate_roc_points\n",
    "\n",
    "roc_points = {}\n",
    "for group_name, group in data_grouped_by_sensitive_feature:\n",
    "    roc_points[group_name] = _calculate_roc_points(data_grouped_by_sensitive_feature.get_group(group_name), 0)\n",
    "print(\"Thresholding rules:\")\n",
    "roc_points"
   ]
  },
  {
   "cell_type": "markdown",
   "metadata": {
    "papermill": {
     "duration": 0.035,
     "end_time": "2020-05-05T00:32:46.583865",
     "exception": false,
     "start_time": "2020-05-05T00:32:46.548865",
     "status": "completed"
    },
    "tags": []
   },
   "source": [
    "The base points with (x,y) as (0,0) and (1,1) always exist, because that essentially just means that we're predicting everything as 0 or everything as 1 regardless of the scores from the fairness-unaware model. Let's look at both cases:\n",
    "- x=0, y=0, threshold rule \">inf\": more than infinity is impossible, which means every sample is predicted as 0. That means $P[\\hat{Y} = 1 | Y = 0] = 0$ (represented as x) because the predictions $\\hat{Y}$ are never 1, and similarly $P[\\hat{Y} = 1 | Y = 1] = 0$ (represented as y).\n",
    "- x=1, y=1, threshold rule \">-inf\": more than infinity is always true, which means every sample is predicted as 1. That means $P[\\hat{Y} = 1 | Y = 0] = 1$ (represented as x) because the predictions $\\hat{Y}$ are always 1, and similarly $P[\\hat{Y} = 1 | Y = 1] = 1$ (represented as y).\n",
    "\n",
    "The more interesting logic happens in between. The x and y values were calculated as follows:"
   ]
  },
  {
   "cell_type": "code",
   "execution_count": 9,
   "metadata": {
    "papermill": {
     "duration": 0.076999,
     "end_time": "2020-05-05T00:32:46.695866",
     "exception": false,
     "start_time": "2020-05-05T00:32:46.618867",
     "status": "completed"
    },
    "tags": []
   },
   "outputs": [
    {
     "name": "stdout",
     "output_type": "stream",
     "text": [
      "African-American:"
     ]
    },
    {
     "name": "stdout",
     "output_type": "stream",
     "text": [
      "\n"
     ]
    },
    {
     "name": "stdout",
     "output_type": "stream",
     "text": [
      "    number of samples with label 1: 1100"
     ]
    },
    {
     "name": "stdout",
     "output_type": "stream",
     "text": [
      "\n"
     ]
    },
    {
     "name": "stdout",
     "output_type": "stream",
     "text": [
      "    number of samples with label 0: 1047"
     ]
    },
    {
     "name": "stdout",
     "output_type": "stream",
     "text": [
      "\n"
     ]
    },
    {
     "name": "stdout",
     "output_type": "stream",
     "text": [
      "Caucasian:"
     ]
    },
    {
     "name": "stdout",
     "output_type": "stream",
     "text": [
      "\n"
     ]
    },
    {
     "name": "stdout",
     "output_type": "stream",
     "text": [
      "    number of samples with label 1: 551"
     ]
    },
    {
     "name": "stdout",
     "output_type": "stream",
     "text": [
      "\n"
     ]
    },
    {
     "name": "stdout",
     "output_type": "stream",
     "text": [
      "    number of samples with label 0: 838"
     ]
    },
    {
     "name": "stdout",
     "output_type": "stream",
     "text": [
      "\n"
     ]
    }
   ],
   "source": [
    "n_group_0 = {}\n",
    "n_group_1 = {}\n",
    "for group_name, group in data_grouped_by_sensitive_feature:\n",
    "    print(\"{}:\".format(group_name))\n",
    "    n_group_1[group_name] = sum(group[\"label\"])\n",
    "    n_group_0[group_name] = len(group) - n_group_1[group_name]\n",
    "    \n",
    "    print(\"    number of samples with label 1: {}\".format(n_group_1[group_name]))\n",
    "    print(\"    number of samples with label 0: {}\".format(n_group_0[group_name]))"
   ]
  },
  {
   "cell_type": "code",
   "execution_count": 10,
   "metadata": {
    "papermill": {
     "duration": 0.071994,
     "end_time": "2020-05-05T00:32:46.807861",
     "exception": false,
     "start_time": "2020-05-05T00:32:46.735867",
     "status": "completed"
    },
    "tags": []
   },
   "outputs": [
    {
     "name": "stdout",
     "output_type": "stream",
     "text": [
      "African-American:"
     ]
    },
    {
     "name": "stdout",
     "output_type": "stream",
     "text": [
      "\n"
     ]
    },
    {
     "name": "stdout",
     "output_type": "stream",
     "text": [
      "    P[Ŷ = 1 | Y = 0] = 0.34001910219675263"
     ]
    },
    {
     "name": "stdout",
     "output_type": "stream",
     "text": [
      "\n"
     ]
    },
    {
     "name": "stdout",
     "output_type": "stream",
     "text": [
      "    P[Ŷ = 1 | Y = 1] = 0.6854545454545454"
     ]
    },
    {
     "name": "stdout",
     "output_type": "stream",
     "text": [
      "\n"
     ]
    },
    {
     "name": "stdout",
     "output_type": "stream",
     "text": [
      "Caucasian:"
     ]
    },
    {
     "name": "stdout",
     "output_type": "stream",
     "text": [
      "\n"
     ]
    },
    {
     "name": "stdout",
     "output_type": "stream",
     "text": [
      "    P[Ŷ = 1 | Y = 0] = 0.1801909307875895"
     ]
    },
    {
     "name": "stdout",
     "output_type": "stream",
     "text": [
      "\n"
     ]
    },
    {
     "name": "stdout",
     "output_type": "stream",
     "text": [
      "    P[Ŷ = 1 | Y = 1] = 0.4010889292196007"
     ]
    },
    {
     "name": "stdout",
     "output_type": "stream",
     "text": [
      "\n"
     ]
    }
   ],
   "source": [
    "threshold = 0.5\n",
    "for group_name, group in data_grouped_by_sensitive_feature:\n",
    "    x_group_0_5 = sum((group[\"score\"] > threshold) & (group[\"label\"] == 0)) / n_group_0[group_name]\n",
    "    y_group_0_5 = sum((group[\"score\"] > threshold) & (group[\"label\"] == 1)) / n_group_1[group_name]\n",
    "    print(\"{}:\".format(group_name))\n",
    "    print(\"    P[Ŷ = 1 | Y = 0] = {}\".format(x_group_0_5))\n",
    "    print(\"    P[Ŷ = 1 | Y = 1] = {}\".format(y_group_0_5))"
   ]
  },
  {
   "cell_type": "markdown",
   "metadata": {
    "papermill": {
     "duration": 0.059001,
     "end_time": "2020-05-05T00:32:46.912861",
     "exception": false,
     "start_time": "2020-05-05T00:32:46.853860",
     "status": "completed"
    },
    "tags": []
   },
   "source": [
    "Note that it never makes sense to have $x>y$ because in that case you're better off flipping labels, i.e. completely turning around the meaning of the scores. The method automatically does that unless specified otherwise.\n",
    "\n",
    "## Interpolated Predictions and Probabilistic Classifiers\n",
    "\n",
    "This way you end up with a set of points above the diagonal line connecting (0,0) and (1,1). We calculate the convex hull based on that, because we can reach any point in between two known thresholding points by interpolation. An interpolation could be $p_0 (x_0, y_0) + p_1 (x_1, y_1)$. For the post processing algorithm that would mean that we use the rule defined by $(x_0, y_0, \\text{operation}_0)$ $\\quad p_0$ percent of the time, and the rule defined by $(x_1, y_1, \\text{operation}_1)$ $\\quad p_1$ percent of the time, thus resulting in a probabilistic classifier. Depending on the data certain fairness objectives can only be accomplished with probabilistic classifiers. However, not every use case lends itself to probabilistic classifiers, since it could mean that two people with identical features are classified differently.\n",
    "\n",
    "## Finding the Equalized Odds solution\n",
    "\n",
    "From all the ROC points (see below) we need to extract the convex hull for both groups/curves."
   ]
  },
  {
   "cell_type": "code",
   "execution_count": 11,
   "metadata": {
    "papermill": {
     "duration": 0.662002,
     "end_time": "2020-05-05T00:32:47.621867",
     "exception": false,
     "start_time": "2020-05-05T00:32:46.959865",
     "status": "completed"
    },
    "tags": []
   },
   "outputs": [
    {
     "data": {
      "image/png": "[encoded data removed]",
      "text/plain": [
       "<Figure size 432x288 with 1 Axes>"
      ]
     },
     "metadata": {
      "needs_background": "light"
     },
     "output_type": "display_data"
    }
   ],
   "source": [
    "import matplotlib.pyplot as plt\n",
    "\n",
    "for group_name, group in data_grouped_by_sensitive_feature:\n",
    "    plt.plot(roc_points[group_name].x, roc_points[group_name].y)\n",
    "plt.xlabel(\"$P\\ [\\ \\\\hat{Y}=1\\ |\\ Y=0\\ ]$\")\n",
    "plt.ylabel(\"$P\\ [\\ \\\\hat{Y}=1\\ |\\ Y=1\\ ]$\")\n",
    "plt.show()"
   ]
  },
  {
   "cell_type": "markdown",
   "metadata": {
    "papermill": {
     "duration": 0.044996,
     "end_time": "2020-05-05T00:32:47.710861",
     "exception": false,
     "start_time": "2020-05-05T00:32:47.665865",
     "status": "completed"
    },
    "tags": []
   },
   "source": [
    "In the Equalized Odds case, we need to find a point where the presented probabilities (false positive rate, true positive rate, and thereby also true negative rate and false negative rate) for the corresponding groups match while minimizing the error, which is equivalent to finding the minimum error overlap of the convex hulls of the ROC curves. The error in the chart is smallest in the top left corner. This is done as part of the `fit` step above, and we'll repeat it here for completeness. The yellow area is the overlap between the areas under the curve that are reachable with interpolation for both groups. Of course, this works for more than two groups as well. The result is that we have interpolated solutions for each group, i.e. every prediction is calculated as the weighted result of two threshold rules.\n",
    "\n",
    "In this particular case the Caucasian curve is always below or matching the African-American curve. That means that the area under the Caucasian curve is also identical to the overlap. That does not always happen, though, and overlaps can be fairly complex with multiple intersecting curves defining its outline.\n",
    "\n",
    "We can actually even look up the specific interpolations and interpret the results. Keep in mind that these interpolations come up with a floating point number between 0 and 1, and represent the probability of getting 0 or 1 in the predicted outcome.\n",
    "\n",
    "The result for African-Americans is a combination of two thresholding rules. The first rule checks whether the score is above 0.542, the other whether it is above 0.508. The first rule has a weight of 0.19, which means it determines 19% of the resulting probability. The second rule determines the remaining 81%. In the chart the Caucasian curve is below the African-American curve at the EO solution. This means that there is a slight adjustment according to the formula presented below.\n",
    "\n",
    "The Caucasian rules have somewhat lower thresholds: The first rule's threshold is >0.421 and it is basically the deciding factor with a weight of 99.3%, while the second rule's threshold is >0.404.\n",
    "\n",
    "Overall, this means that the postprocessing algorithm learned to get probabilities consistent with Equalized Odds and minimal error by setting lower thresholds for Caucasians than for African-Americans. The resulting probability from the formula below is then the probability to get label 1 from the probabilistic classifier.\n",
    "\n",
    "Note that this does not necessarily mean it's fair. It simply enforced the constraints we asked it to enforce, as described by Equalized Odds. The societal context plays a crucial role in determining whether this is fair.\n",
    "\n",
    "The parameters `p_ignore` and `prediction_constant` are irrelevant for cases where the curves intersect in the minimum error point. When that doesn't happen, and the minimum error point is only part of one curve, then the interpolation is adjusted as follows\n",
    "```\n",
    "p_ignore * prediction_constant + (1 - p_ignore) * (p0 * operation0(score) + p1 * operation1(score))\n",
    "```\n",
    "The adjustment should happen to the higher one of the curves and essentially brings it closer to the diagonal as represented by `prediction_constant`. In this case this is not required since the curves intersect, but we are actually slightly inaccurate because we only determine the minimum error point on a grid of x values, instead of calculating the intersection point analytically. By choosing a large `grid_size` this can be alleviated."
   ]
  },
  {
   "cell_type": "code",
   "execution_count": 12,
   "metadata": {
    "papermill": {
     "duration": 1.092998,
     "end_time": "2020-05-05T00:32:48.846863",
     "exception": false,
     "start_time": "2020-05-05T00:32:47.753865",
     "status": "completed"
    },
    "tags": []
   },
   "outputs": [
    {
     "name": "stdout",
     "output_type": "stream",
     "text": [
      "African-American:"
     ]
    },
    {
     "name": "stdout",
     "output_type": "stream",
     "text": [
      "\n"
     ]
    },
    {
     "name": "stdout",
     "output_type": "stream",
     "text": [
      "[p_ignore: 0.23207031263141853\n",
      "  prediction_constant: 0.337\n",
      "  p0: 0.6265294117647058\n",
      "  operation0: [>0.5255937370493636]\n",
      "  p1: 0.3734705882352942\n",
      "  operation1: [>0.4511577440415294]]"
     ]
    },
    {
     "name": "stdout",
     "output_type": "stream",
     "text": [
      "\n"
     ]
    },
    {
     "name": "stdout",
     "output_type": "stream",
     "text": [
      "-----------------------------------"
     ]
    },
    {
     "name": "stdout",
     "output_type": "stream",
     "text": [
      "\n"
     ]
    },
    {
     "name": "stdout",
     "output_type": "stream",
     "text": [
      "Caucasian:"
     ]
    },
    {
     "name": "stdout",
     "output_type": "stream",
     "text": [
      "\n"
     ]
    },
    {
     "name": "stdout",
     "output_type": "stream",
     "text": [
      "[p_ignore: 0.0\n",
      "  prediction_constant: 0.337\n",
      "  p0: 0.003735849056603747\n",
      "  operation0: [>0.5172897190882537]\n",
      "  p1: 0.9962641509433963\n",
      "  operation1: [>0.40323605761960746]]"
     ]
    },
    {
     "name": "stdout",
     "output_type": "stream",
     "text": [
      "\n"
     ]
    },
    {
     "name": "stdout",
     "output_type": "stream",
     "text": [
      "-----------------------------------"
     ]
    },
    {
     "name": "stdout",
     "output_type": "stream",
     "text": [
      "\n"
     ]
    }
   ],
   "source": [
    "postprocessed_predictor_EO._plot = True\n",
    "postprocessed_predictor_EO.fit(X_train, y_train, sensitive_features=sensitive_features_train)\n",
    "\n",
    "for group, interpolation in postprocessed_predictor_EO._post_processed_predictor_by_sensitive_feature.items():\n",
    "    print(\"{}:\".format(group))\n",
    "    print(\"\\n \".join(interpolation.__repr__().split(',')))\n",
    "    print(\"-----------------------------------\")"
   ]
  },
  {
   "cell_type": "code",
   "execution_count": 13,
   "metadata": {
    "papermill": {
     "duration": 2.896999,
     "end_time": "2020-05-05T00:32:51.874863",
     "exception": false,
     "start_time": "2020-05-05T00:32:48.977864",
     "status": "completed"
    },
    "tags": []
   },
   "outputs": [],
   "source": [
    "import scrapbook as sb"
   ]
  },
  {
   "cell_type": "code",
   "execution_count": 14,
   "metadata": {
    "papermill": {
     "duration": 0.234994,
     "end_time": "2020-05-05T00:32:52.208867",
     "exception": false,
     "start_time": "2020-05-05T00:32:51.973873",
     "status": "completed"
    },
    "tags": []
   },
   "outputs": [
    {
     "data": {
      "application/scrapbook.scrap.json+json": {
       "data": 0.23207031263141853,
       "encoder": "json",
       "name": "pp_eo_aa_pignore",
       "version": 1
      }
     },
     "metadata": {
      "scrapbook": {
       "data": true,
       "display": false,
       "name": "pp_eo_aa_pignore"
      }
     },
     "output_type": "display_data"
    }
   ],
   "source": [
    "sb.glue(\"pp_eo_aa_pignore\", postprocessed_predictor_EO._post_processed_predictor_by_sensitive_feature['African-American']._p_ignore)"
   ]
  }
 ],
 "metadata": {
  "file_extension": ".py",
  "kernelspec": {
   "display_name": "Python 3",
   "language": "python",
   "name": "python3"
  },
  "language_info": {
   "codemirror_mode": {
    "name": "ipython",
    "version": 3
   },
   "file_extension": ".py",
   "mimetype": "text/x-python",
   "name": "python",
   "nbconvert_exporter": "python",
   "pygments_lexer": "ipython3",
   "version": "3.6.9"
  },
  "mimetype": "text/x-python",
  "name": "python",
  "npconvert_exporter": "python",
  "papermill": {
   "duration": 21.913473,
   "end_time": "2020-05-05T00:32:53.026864",
   "environment_variables": {},
   "exception": null,
   "input_path": "./test/notebooks/Binary Classification on COMPAS dataset.processed.ipynb",
   "output_path": "./test/notebooks/Binary Classification on COMPAS dataset.output.ipynb",
   "parameters": {},
   "start_time": "2020-05-05T00:32:31.113391",
   "version": "1.2.1"
  },
  "pygments_lexer": "ipython3",
  "version": 3
 },
 "nbformat": 4,
 "nbformat_minor": 2
}