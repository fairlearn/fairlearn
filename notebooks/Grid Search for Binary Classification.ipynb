{
 "cells": [
  {
   "cell_type": "markdown",
   "metadata": {},
   "source": [
    "# Grid Search for Binary Classification\n",
    "\n",
    "This notebook goes through applying the `grid_search` algorithm in FairLearn to a binary classification problem, where we also have a binary protected attribute.\n",
    "\n",
    "The specific problem we consider a biased credit scoring problem. We assume that we have a collection of individuals characterised by two features - a credit score in the range $[0, 1]$ and a binary protected attribute from ${a_0, a_1}$. We also have a binary 'score' for each individual indicating whether or not they got a loan. This is determined by applying a threshold to their credit score, and to make the dataset unfair, we can set different thresholds for the two groups $a_0$ and $a_1$.\n",
    "\n",
    "In this simple case, we make the protected attribute and the credit score available to both the learner and the model. This gives us a straightforward method of assessing fairness - look at the model, and see if zero weight is put on the protected attribute."
   ]
  },
  {
   "cell_type": "code",
   "execution_count": 1,
   "metadata": {},
   "outputs": [],
   "source": [
    "import sys\n",
    "sys.path.insert(0, \"../\")\n",
    "\n",
    "import fairlearn.grid_search.binary_protected_attribute.binary_classification as bc\n",
    "\n",
    "import numpy as np\n",
    "import pandas as pd\n",
    "\n",
    "from test import simple_learners"
   ]
  },
  {
   "cell_type": "markdown",
   "metadata": {},
   "source": [
    "We use the following function to create the input data. The credit scores for each population are uniformly distributed in the range $[0, 1]$, and we apply separate thresholds to each subpopulation to determine the score $Y \\in {0, 1}$. We also add an extra constant feature to the data. This is needed to allow the toy learner we use to create a good fit."
   ]
  },
  {
   "cell_type": "code",
   "execution_count": 2,
   "metadata": {},
   "outputs": [],
   "source": [
    "def simple_threshold_data(number_a0, number_a1,\n",
    "                          a0_threshold, a1_threshold,\n",
    "                          a0_label, a1_label):\n",
    "\n",
    "    a0s = np.full(number_a0, a0_label)\n",
    "    a1s = np.full(number_a1, a1_label)\n",
    "\n",
    "    a0_scores = np.linspace(0, 1, number_a0)\n",
    "    a1_scores = np.linspace(0, 1, number_a1)\n",
    "    score_feature = np.concatenate((a0_scores, a1_scores), axis=None)\n",
    "\n",
    "    A = np.concatenate((a0s, a1s), axis=None)\n",
    "\n",
    "    Y_a0 = [x > a0_threshold for x in a0_scores]\n",
    "    Y_a1 = [x > a1_threshold for x in a1_scores]\n",
    "\n",
    "    Y = np.concatenate((Y_a0, Y_a1), axis=None)\n",
    "\n",
    "    X = pd.DataFrame({\"credit_score_feature\": score_feature,\n",
    "                      \"protected_attribute_feature\": A,\n",
    "                      \"constant_ones_feature\": np.ones(len(Y))})\n",
    "    return X, Y, A"
   ]
  },
  {
   "cell_type": "markdown",
   "metadata": {},
   "source": [
    "We now use the above function to generate our dataset. We have 31 individuals with label $a_0$, and they only require a credit score of 0.2 to get the loan. In contrast, the 21 members of the $a_1$ population require a score of 0.7. The actual label values for $a_0$ and $a_1$ have to be numeric, but the actual values are not important. We set them to carefully chosen random numbers."
   ]
  },
  {
   "cell_type": "code",
   "execution_count": 3,
   "metadata": {},
   "outputs": [],
   "source": [
    "num_samples_a0 = 31\n",
    "num_samples_a1 = 21\n",
    "\n",
    "a0_threshold= 0.2\n",
    "a1_threshold = 0.7\n",
    "\n",
    "a0_label = 45\n",
    "a1_label = 18\n",
    "\n",
    "X, Y, A = simple_threshold_data(num_samples_a0, num_samples_a1, a0_threshold, a1_threshold, a0_label, a1_label)"
   ]
  },
  {
   "cell_type": "markdown",
   "metadata": {},
   "source": [
    "The following helper function plots the score $Y$ for each of the subpopulations in our data."
   ]
  },
  {
   "cell_type": "code",
   "execution_count": 4,
   "metadata": {},
   "outputs": [],
   "source": [
    "import matplotlib.pyplot as plt\n",
    "def plot_data(Xs, Ys):\n",
    "    labels = np.unique(Xs[\"protected_attribute_feature\"])\n",
    "    \n",
    "    for l in labels:\n",
    "        label_string = str(l.item())\n",
    "        mask = Xs[\"protected_attribute_feature\"] == l\n",
    "        plt.scatter(Xs[mask].credit_score_feature, Ys[mask], label=str(\"Label=\"+label_string))\n",
    "        plt.xlabel(\"Credit Score\")\n",
    "        plt.ylabel(\"Got Loan\")\n",
    "        \n",
    "    plt.legend()\n",
    "    plt.show()"
   ]
  },
  {
   "cell_type": "markdown",
   "metadata": {},
   "source": [
    "Plotting the input data, we can clearly see the bias against the $a_1$ population."
   ]
  },
  {
   "cell_type": "code",
   "execution_count": 5,
   "metadata": {},
   "outputs": [
    {
     "data": {
      "image/png": "[encoded data removed]",
      "text/plain": [
       "<Figure size 432x288 with 1 Axes>"
      ]
     },
     "metadata": {
      "needs_background": "light"
     },
     "output_type": "display_data"
    }
   ],
   "source": [
    "plot_data(X, Y)"
   ]
  },
  {
   "cell_type": "markdown",
   "metadata": {},
   "source": [
    "For this notebook, we use a very simple binary classifier. This performs linear regression on the input features (hence the requirement for the $a_0$ and $a_1$ labels to be numeric), and then checks whether or not the result is greater than 0.5. We can train this model on our biased data, and look at the weights the regression places on each feature. The fact that the `protected_attribute_feature` has non-zero weight tells us that we have a biased model (note that this is only true for this simple example - in the real world, fairness is more complicated)."
   ]
  },
  {
   "cell_type": "code",
   "execution_count": 6,
   "metadata": {},
   "outputs": [
    {
     "data": {
      "text/plain": [
       "constant_ones_feature         -0.521404\n",
       "credit_score_feature           1.121662\n",
       "protected_attribute_feature    0.016328\n",
       "dtype: float64"
      ]
     },
     "execution_count": 6,
     "metadata": {},
     "output_type": "execute_result"
    }
   ],
   "source": [
    "unfair_model = simple_learners.LeastSquaresBinaryClassifierLearner()\n",
    "unfair_model.fit(X, Y, sample_weight=np.ones(len(Y)))\n",
    "\n",
    "unfair_model.weights"
   ]
  },
  {
   "cell_type": "markdown",
   "metadata": {},
   "source": [
    "We can also plot out the predictions for this model. We can see that a few points have changed (which is not unexpected) but the bias definitely remains."
   ]
  },
  {
   "cell_type": "code",
   "execution_count": 7,
   "metadata": {},
   "outputs": [
    {
     "data": {
      "image/png": "[encoded data removed]",
      "text/plain": [
       "<Figure size 432x288 with 1 Axes>"
      ]
     },
     "metadata": {
      "needs_background": "light"
     },
     "output_type": "display_data"
    }
   ],
   "source": [
    "Y_predict_unfair = unfair_model.predict(X)\n",
    "plot_data(X, Y_predict_unfair)"
   ]
  },
  {
   "cell_type": "markdown",
   "metadata": {},
   "source": [
    "## Reducing Unfairness\n",
    "\n",
    "Now, we move on to attempting to reduce the unfairness in our model using the grid search. This tries a series of different models, parameterised by a Lagrange multip"
   ]
  },
  {
   "cell_type": "code",
   "execution_count": null,
   "metadata": {},
   "outputs": [],
   "source": [
    "first_sweep = bc.sweep_demographic_parity(simple_learners.LeastSquaresBinaryClassifierLearner(),\n",
    "            X, Y, A, number_lagrange_multipliers=7)"
   ]
  },
  {
   "cell_type": "code",
   "execution_count": null,
   "metadata": {},
   "outputs": [],
   "source": [
    "lagrange_multipliers = [x[\"lagrange_multiplier\"] for x in first_sweep]\n",
    "lagrange_multipliers"
   ]
  },
  {
   "cell_type": "code",
   "execution_count": null,
   "metadata": {},
   "outputs": [],
   "source": [
    "first_sweep_protected_attribute_weights = [\n",
    "            x[\"model\"].weights[\"protected_attribute_feature\"] for x in first_sweep]\n"
   ]
  },
  {
   "cell_type": "code",
   "execution_count": null,
   "metadata": {},
   "outputs": [],
   "source": [
    "plt.scatter(lagrange_multipliers, first_sweep_protected_attribute_weights)\n",
    "plt.xlabel(\"Lagrange Multiplier\")\n",
    "plt.ylabel(\"Weight of Protected Attribute in Model\")\n",
    "plt.show()"
   ]
  },
  {
   "cell_type": "code",
   "execution_count": null,
   "metadata": {},
   "outputs": [],
   "source": [
    "import bisect\n",
    "\n",
    "best_first_index = bisect.bisect(first_sweep_protected_attribute_weights, 0)\n",
    "print(first_sweep_protected_attribute_weights[(best_first_index-1):best_first_index+1])\n",
    "\n",
    "best_model_first_sweep = first_sweep[best_first_index][\"model\"]\n",
    "best_model_first_sweep.weights"
   ]
  },
  {
   "cell_type": "code",
   "execution_count": null,
   "metadata": {},
   "outputs": [],
   "source": [
    "Y_first_predict = best_model_first_sweep.predict(X)"
   ]
  },
  {
   "cell_type": "code",
   "execution_count": null,
   "metadata": {},
   "outputs": [],
   "source": [
    "plot_data(X, Y_first_predict)"
   ]
  },
  {
   "cell_type": "code",
   "execution_count": null,
   "metadata": {},
   "outputs": [],
   "source": [
    "second_sweep_multipliers = np.linspace(first_sweep[best_first_index-1][\"lagrange_multiplier\"],\n",
    "                                      first_sweep[best_first_index][\"lagrange_multiplier\"],\n",
    "                                      31)\n",
    "second_sweep = bc.sweep_demographic_parity(simple_learners.LeastSquaresBinaryClassifierLearner(),\n",
    "            X, Y, A, lagrange_multipliers=second_sweep_multipliers, number_lagrange_multipliers=None)"
   ]
  },
  {
   "cell_type": "code",
   "execution_count": null,
   "metadata": {},
   "outputs": [],
   "source": [
    "second_sweep_protected_attribute_weights = [\n",
    "            x[\"model\"].weights[\"protected_attribute_feature\"] for x in second_sweep]\n",
    "second_sweep_lagrange_multipliers = [x[\"lagrange_multiplier\"] for x in second_sweep]\n",
    "plt.scatter(second_sweep_lagrange_multipliers, second_sweep_protected_attribute_weights)\n",
    "plt.xlabel(\"Lagrange Multiplier\")\n",
    "plt.ylabel(\"Weight of Protected Attribute in Model\")\n",
    "plt.show()"
   ]
  },
  {
   "cell_type": "code",
   "execution_count": null,
   "metadata": {},
   "outputs": [],
   "source": [
    "best_second_index = bisect.bisect(second_sweep_protected_attribute_weights, 0)\n",
    "print(best_second_index)\n",
    "print(second_sweep_protected_attribute_weights[(best_second_index-1):best_second_index+1])"
   ]
  },
  {
   "cell_type": "code",
   "execution_count": null,
   "metadata": {},
   "outputs": [],
   "source": [
    "best_model_second_sweep = second_sweep[best_second_index][\"model\"]\n",
    "best_model_second_sweep.weights"
   ]
  },
  {
   "cell_type": "code",
   "execution_count": null,
   "metadata": {},
   "outputs": [],
   "source": [
    "Y_second_predict = best_model_second_sweep.predict(X)\n",
    "plot_data(X, Y_second_predict)"
   ]
  },
  {
   "cell_type": "code",
   "execution_count": null,
   "metadata": {},
   "outputs": [],
   "source": []
  },
  {
   "cell_type": "code",
   "execution_count": null,
   "metadata": {},
   "outputs": [],
   "source": []
  }
 ],
 "metadata": {
  "kernelspec": {
   "display_name": "Python 3",
   "language": "python",
   "name": "python3"
  },
  "language_info": {
   "codemirror_mode": {
    "name": "ipython",
    "version": 3
   },
   "file_extension": ".py",
   "mimetype": "text/x-python",
   "name": "python",
   "nbconvert_exporter": "python",
   "pygments_lexer": "ipython3",
   "version": "3.5.6"
  }
 },
 "nbformat": 4,
 "nbformat_minor": 2
}
