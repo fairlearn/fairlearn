{
 "cells": [
  {
   "cell_type": "code",
   "execution_count": 1,
   "metadata": {},
   "outputs": [],
   "source": [
    "import sys\n",
    "sys.path.insert(0, \"../\")\n",
    "\n",
    "import fairlearn.grid_search.binary_protected_attribute.binary_classification as bc\n",
    "\n",
    "import numpy as np\n",
    "import pandas as pd\n",
    "\n",
    "from test import simple_learners"
   ]
  },
  {
   "cell_type": "code",
   "execution_count": 2,
   "metadata": {},
   "outputs": [],
   "source": [
    "def simple_threshold_data(number_a0, number_a1,\n",
    "                          a0_threshold, a1_threshold,\n",
    "                          a0_label, a1_label):\n",
    "\n",
    "    a0s = np.full(number_a0, a0_label)\n",
    "    a1s = np.full(number_a1, a1_label)\n",
    "\n",
    "    a0_scores = np.linspace(0, 1, number_a0)\n",
    "    a1_scores = np.linspace(0, 1, number_a1)\n",
    "    score_feature = np.concatenate((a0_scores, a1_scores), axis=None)\n",
    "\n",
    "    A = np.concatenate((a0s, a1s), axis=None)\n",
    "\n",
    "    Y_a0 = [x > a0_threshold for x in a0_scores]\n",
    "    Y_a1 = [x > a1_threshold for x in a1_scores]\n",
    "\n",
    "    Y = np.concatenate((Y_a0, Y_a1), axis=None)\n",
    "\n",
    "    X = pd.DataFrame({\"actual_feature\": score_feature,\n",
    "                      \"protected_attribute_feature\": A,\n",
    "                      \"constant_ones_feature\": np.ones(len(Y))})\n",
    "    return X, Y, A"
   ]
  },
  {
   "cell_type": "code",
   "execution_count": 4,
   "metadata": {},
   "outputs": [],
   "source": [
    "num_samples_a0 = 30\n",
    "num_samples_a1 = 40\n",
    "\n",
    "a0_threshold= 0.4\n",
    "a1_threshold = 0.\n",
    "\n",
    "a0_label = 45\n",
    "a1_label = 18\n",
    "\n",
    "X, Y, A = simple_threshold_data(num_samples_a0, num_samples_a1, a0_threshold, a1_threshold, a0_label, a1_label)"
   ]
  },
  {
   "cell_type": "code",
   "execution_count": 5,
   "metadata": {},
   "outputs": [],
   "source": [
    "import matplotlib.pyplot as plt"
   ]
  },
  {
   "cell_type": "code",
   "execution_count": 6,
   "metadata": {},
   "outputs": [],
   "source": [
    "mask_a0 = X[\"protected_attribute_feature\"] == a0_label\n",
    "mask_a1 = X[\"protected_attribute_feature\"] == a1_label"
   ]
  },
  {
   "cell_type": "code",
   "execution_count": 7,
   "metadata": {},
   "outputs": [],
   "source": [
    "X_a0 = X[mask_a0]\n",
    "Y_a0 = Y[mask_a0]\n",
    "X_a1 = X[mask_a1]\n",
    "Y_a1 = Y[mask_a1]"
   ]
  },
  {
   "cell_type": "code",
   "execution_count": 8,
   "metadata": {},
   "outputs": [
    {
     "data": {
      "image/png": "[encoded data removed]",
      "text/plain": [
       "<Figure size 432x288 with 1 Axes>"
      ]
     },
     "metadata": {
      "needs_background": "light"
     },
     "output_type": "display_data"
    }
   ],
   "source": [
    "plt.scatter(X_a0[\"actual_feature\"], Y_a0, label='a0')\n",
    "plt.scatter(X_a1[\"actual_feature\"], Y_a1, label='a1')\n",
    "plt.xlabel(\"Score\")\n",
    "plt.ylabel(\"Label\")\n",
    "plt.show()"
   ]
  },
  {
   "cell_type": "code",
   "execution_count": 15,
   "metadata": {},
   "outputs": [
    {
     "data": {
      "text/plain": [
       "actual_feature                 1.399976\n",
       "constant_ones_feature         -0.433321\n",
       "protected_attribute_feature    0.007407\n",
       "dtype: float64"
      ]
     },
     "execution_count": 15,
     "metadata": {},
     "output_type": "execute_result"
    }
   ],
   "source": [
    "unfair_model = simple_learners.LeastSquaresBinaryClassifierLearner()\n",
    "unfair_model.fit(X, Y, sample_weight=np.ones(len(Y)))\n",
    "\n",
    "unfair_model.weights"
   ]
  },
  {
   "cell_type": "code",
   "execution_count": 16,
   "metadata": {},
   "outputs": [],
   "source": [
    "Y_predict = unfair_model.predict(X)"
   ]
  },
  {
   "cell_type": "code",
   "execution_count": 18,
   "metadata": {},
   "outputs": [
    {
     "data": {
      "image/png": "[encoded data removed]",
      "text/plain": [
       "<Figure size 432x288 with 1 Axes>"
      ]
     },
     "metadata": {
      "needs_background": "light"
     },
     "output_type": "display_data"
    }
   ],
   "source": [
    "plt.scatter(X_a0[\"actual_feature\"], Y_predict[mask_a0], label='a0')\n",
    "plt.scatter(X_a1[\"actual_feature\"], Y_predict[mask_a1], label='a1')\n",
    "plt.xlabel(\"Score\")\n",
    "plt.ylabel(\"Label\")\n",
    "plt.show()"
   ]
  },
  {
   "cell_type": "code",
   "execution_count": 21,
   "metadata": {},
   "outputs": [],
   "source": [
    "first_sweep = bc.sweep_demographic_parity(simple_learners.LeastSquaresBinaryClassifierLearner(),\n",
    "            X, Y, A)"
   ]
  },
  {
   "cell_type": "code",
   "execution_count": 35,
   "metadata": {},
   "outputs": [
    {
     "data": {
      "text/plain": [
       "[-2.6666666666666665,\n",
       " -2.1333333333333333,\n",
       " -1.5999999999999999,\n",
       " -1.0666666666666664,\n",
       " -0.5333333333333332,\n",
       " 0.0,\n",
       " 0.5333333333333337,\n",
       " 1.0666666666666669,\n",
       " 1.6,\n",
       " 2.1333333333333333,\n",
       " 2.6666666666666665]"
      ]
     },
     "execution_count": 35,
     "metadata": {},
     "output_type": "execute_result"
    }
   ],
   "source": [
    "lagrange_multipliers = [x[\"lagrange_multiplier\"] for x in first_sweep]\n",
    "lagrange_multipliers"
   ]
  },
  {
   "cell_type": "code",
   "execution_count": 30,
   "metadata": {},
   "outputs": [],
   "source": [
    "first_sweep_protected_attribute_weights = [\n",
    "            x[\"model\"].weights[\"protected_attribute_feature\"] for x in first_sweep]\n"
   ]
  },
  {
   "cell_type": "code",
   "execution_count": 31,
   "metadata": {},
   "outputs": [
    {
     "data": {
      "image/png": "[encoded data removed]",
      "text/plain": [
       "<Figure size 432x288 with 1 Axes>"
      ]
     },
     "metadata": {
      "needs_background": "light"
     },
     "output_type": "display_data"
    }
   ],
   "source": [
    "plt.scatter(lagrange_multipliers, first_sweep_protected_attribute_weights)\n",
    "plt.xlabel(\"Lagrange Multiplier\")\n",
    "plt.ylabel(\"Weight of Protected Attribute in Model\")\n",
    "plt.show()"
   ]
  },
  {
   "cell_type": "code",
   "execution_count": 32,
   "metadata": {},
   "outputs": [],
   "source": [
    "best_model_first_sweep = first_sweep[4][\"model\"]"
   ]
  },
  {
   "cell_type": "code",
   "execution_count": 33,
   "metadata": {},
   "outputs": [],
   "source": [
    "Y_first_predict = best_model_first_sweep.predict(X)"
   ]
  },
  {
   "cell_type": "code",
   "execution_count": 34,
   "metadata": {},
   "outputs": [
    {
     "data": {
      "image/png": "[encoded data removed]",
      "text/plain": [
       "<Figure size 432x288 with 1 Axes>"
      ]
     },
     "metadata": {
      "needs_background": "light"
     },
     "output_type": "display_data"
    }
   ],
   "source": [
    "plt.scatter(X_a0[\"actual_feature\"], Y_first_predict[mask_a0], label='a0')\n",
    "plt.scatter(X_a1[\"actual_feature\"], Y_first_predict[mask_a1], label='a1')\n",
    "plt.xlabel(\"Score\")\n",
    "plt.ylabel(\"Label\")\n",
    "plt.show()"
   ]
  },
  {
   "cell_type": "code",
   "execution_count": 38,
   "metadata": {},
   "outputs": [],
   "source": [
    "second_sweep_multipliers = np.linspace(first_sweep[3][\"lagrange_multiplier\"],\n",
    "                                      first_sweep[4][\"lagrange_multiplier\"],\n",
    "                                      11)\n",
    "second_sweep = bc.sweep_demographic_parity(simple_learners.LeastSquaresBinaryClassifierLearner(),\n",
    "            X, Y, A, lagrange_multipliers=second_sweep_multipliers, number_lagrange_multipliers=None)"
   ]
  },
  {
   "cell_type": "code",
   "execution_count": 39,
   "metadata": {},
   "outputs": [
    {
     "data": {
      "image/png": "[encoded data removed]",
      "text/plain": [
       "<Figure size 432x288 with 1 Axes>"
      ]
     },
     "metadata": {
      "needs_background": "light"
     },
     "output_type": "display_data"
    }
   ],
   "source": [
    "second_sweep_protected_attribute_weights = [\n",
    "            x[\"model\"].weights[\"protected_attribute_feature\"] for x in second_sweep]\n",
    "second_sweep_lagrange_multipliers = [x[\"lagrange_multiplier\"] for x in second_sweep]\n",
    "plt.scatter(lagrange_multipliers, second_sweep_protected_attribute_weights)\n",
    "plt.xlabel(\"Lagrange Multiplier\")\n",
    "plt.ylabel(\"Weight of Protected Attribute in Model\")\n",
    "plt.show()"
   ]
  },
  {
   "cell_type": "code",
   "execution_count": 40,
   "metadata": {},
   "outputs": [
    {
     "data": {
      "text/plain": [
       "[-0.014287963408571025,\n",
       " -0.009483093722614078,\n",
       " -0.0059244176441616905,\n",
       " -0.003751782106581343,\n",
       " -0.0021645984593035017,\n",
       " -0.0009371906322294676,\n",
       " 5.465667371973293e-05,\n",
       " 0.0008850800223426103,\n",
       " 0.0016011806048571997,\n",
       " 0.002234430554754363,\n",
       " 0.0028067683766365703]"
      ]
     },
     "execution_count": 40,
     "metadata": {},
     "output_type": "execute_result"
    }
   ],
   "source": [
    "second_sweep_protected_attribute_weights"
   ]
  },
  {
   "cell_type": "code",
   "execution_count": 41,
   "metadata": {},
   "outputs": [],
   "source": [
    "best_model_second_sweep = second_sweep[6][\"model\"]"
   ]
  },
  {
   "cell_type": "code",
   "execution_count": 43,
   "metadata": {},
   "outputs": [
    {
     "data": {
      "image/png": "[encoded data removed]",
      "text/plain": [
       "<Figure size 432x288 with 1 Axes>"
      ]
     },
     "metadata": {
      "needs_background": "light"
     },
     "output_type": "display_data"
    }
   ],
   "source": [
    "Y_second_predict = best_model_second_sweep.predict(X)\n",
    "plt.scatter(X_a0[\"actual_feature\"], Y_second_predict[mask_a0], label='a0')\n",
    "plt.scatter(X_a1[\"actual_feature\"], Y_second_predict[mask_a1], label='a1')\n",
    "plt.xlabel(\"Score\")\n",
    "plt.ylabel(\"Label\")\n",
    "plt.show()"
   ]
  },
  {
   "cell_type": "code",
   "execution_count": null,
   "metadata": {},
   "outputs": [],
   "source": []
  }
 ],
 "metadata": {
  "kernelspec": {
   "display_name": "Python 3",
   "language": "python",
   "name": "python3"
  },
  "language_info": {
   "codemirror_mode": {
    "name": "ipython",
    "version": 3
   },
   "file_extension": ".py",
   "mimetype": "text/x-python",
   "name": "python",
   "nbconvert_exporter": "python",
   "pygments_lexer": "ipython3",
   "version": "3.5.6"
  }
 },
 "nbformat": 4,
 "nbformat_minor": 2
}
